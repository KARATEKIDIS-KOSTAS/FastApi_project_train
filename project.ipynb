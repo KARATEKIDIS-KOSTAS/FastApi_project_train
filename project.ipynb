{
 "cells": [
  {
   "cell_type": "markdown",
   "metadata": {},
   "source": [
    "### HELPFUL NOTES"
   ]
  },
  {
   "cell_type": "markdown",
   "metadata": {},
   "source": [
    "##### SET UP\n",
    "###### Lesson 1"
   ]
  },
  {
   "cell_type": "code",
   "execution_count": null,
   "metadata": {},
   "outputs": [],
   "source": [
    "## python -m venv fastapi_venv # install virtual environment\n",
    "\n",
    "## fastapi_venv\\Scripts\\activate.bat # activate virtual environment first step\n",
    "## fastapi_venv\\Scripts\\activate # second step\n",
    "\n",
    "## pip install fastapi # install api  library\n",
    "## pip install uvicorn # install server library\n",
    "\n",
    "## uvicorn main:app --reload # run in cmd to run the main in a browser...it sets up a server using uvicorn. \n",
    "# You must indicate the file path to what you want to run and the object you want to run.\n",
    "# The --reload reruns the server every time we make a change to the main."
   ]
  },
  {
   "cell_type": "markdown",
   "metadata": {},
   "source": [
    "##### In FASTAPI the documentation is automatically generated for the endepoints that we define in our code."
   ]
  },
  {
   "cell_type": "code",
   "execution_count": null,
   "metadata": {},
   "outputs": [],
   "source": [
    "# just add /docs in the link of the browser to check it out (used for testing ussually)\n",
    "# or /redoc  for a different kind of documentation (used for readable documentation)"
   ]
  },
  {
   "cell_type": "code",
   "execution_count": null,
   "metadata": {},
   "outputs": [],
   "source": [
    "# The order af methods dictates the priority of execution if they have similar paths"
   ]
  },
  {
   "cell_type": "markdown",
   "metadata": {},
   "source": [
    "# Routers"
   ]
  },
  {
   "cell_type": "code",
   "execution_count": null,
   "metadata": {},
   "outputs": [],
   "source": [
    "# Big apps need to be organised using routers"
   ]
  },
  {
   "cell_type": "code",
   "execution_count": null,
   "metadata": {},
   "outputs": [],
   "source": [
    "# pip install -r requirements.txt"
   ]
  },
  {
   "cell_type": "markdown",
   "metadata": {},
   "source": [
    "## Boilerplate code"
   ]
  },
  {
   "cell_type": "code",
   "execution_count": null,
   "metadata": {},
   "outputs": [],
   "source": [
    "from sqlalchemy import create_engine\n",
    "from sqlalchemy.ext.declarative import declarative_base\n",
    "from sqlalchemy.orm import sessionmaker\n",
    "\n",
    "SQLALCHEMY_DATABASE_URL=\"sqlite:///./fastapi-practice.db\"\n",
    "\n",
    "engine= create_engine(SQLALCHEMY_DATABASE_URL,connect_args={\"check_same_thread\": False})\n",
    "\n",
    "SessionLocal = sessionmaker(autocommit=False,autoflush=False,bind=engine)\n",
    "\n",
    "Base= declarative_base()"
   ]
  },
  {
   "cell_type": "markdown",
   "metadata": {},
   "source": [
    "# GENERATE SECRETE UNIQUE KEY"
   ]
  },
  {
   "cell_type": "code",
   "execution_count": null,
   "metadata": {},
   "outputs": [],
   "source": [
    "# Run in powershell\n",
    "## [guid]::NewGuid().ToString(\"N\")"
   ]
  },
  {
   "cell_type": "markdown",
   "metadata": {},
   "source": [
    "# Authentication"
   ]
  },
  {
   "cell_type": "code",
   "execution_count": null,
   "metadata": {},
   "outputs": [],
   "source": [
    "# To authenticate you need a function to create the token like:\n",
    "\n",
    "from fastapi.security import OAuth2PasswordBearer\n",
    "from typing import Optional\n",
    "from datetime import datetime, timedelta\n",
    "from jose import jwt\n",
    "\n",
    "oauth2_schema = OAuth2PasswordBearer(tokenUrl='token')\n",
    "\n",
    "SECRET_KEY='0146fea9e7e7454dbf97d7cba24d8b0a'\n",
    "\n",
    "ALGORITHM='HS256'\n",
    "\n",
    "ACCESS_TOKEN_EXPIRE_MINUTES=30\n",
    "\n",
    "def create_access_token(data: dict, expires_delta: Optional[timedelta]=None):\n",
    "    to_encode=data.copy()\n",
    "    if expires_delta:\n",
    "        expire=datetime.utcnow()+expires_delta\n",
    "    else:\n",
    "        expire=datetime.utcnow()+timedelta(minutes=15)\n",
    "    to_encode.update({\"exp\":expire})\n",
    "    encoded_jwt=jwt.encode(to_encode, SECRET_KEY, algorithm=ALGORITHM)\n",
    "    return encoded_jwt\n",
    "\n",
    "# And a function to authenticate and return the token using it, like:\n",
    "\n",
    "from  auth import oauth2\n",
    "from fastapi import APIRouter,HTTPException,status\n",
    "from fastapi.param_functions import Depends\n",
    "from sqlalchemy.orm.session import Session\n",
    "from db.database import get_db\n",
    "from fastapi.security.oauth2 import OAuth2PasswordRequestForm\n",
    "from db import models\n",
    "from db.hash import Hash\n",
    "\n",
    "\n",
    "router= APIRouter(\n",
    "    tags=[\"authentication\"]\n",
    ")\n",
    "\n",
    "@router.post('/token')\n",
    "def get_token(request:OAuth2PasswordRequestForm = Depends(),db: Session =Depends(get_db)):\n",
    "    user=db.query(models.DbUser).filter(models.DbUser.username==request.username).first()\n",
    "    if not user:\n",
    "        raise HTTPException(status_code=status.HTTP_404_NOT_FOUND, detail=\"Invalid credentials\")\n",
    "    if not Hash.verify(user.password,request.password):\n",
    "        raise HTTPException(status_code=status.HTTP_404_NOT_FOUND,detail=\"Incorrect password\")\n",
    "    \n",
    "    access_token=oauth2.create_access_token(data={'sub':user.username})\n",
    "\n",
    "    return {\n",
    "        'access_token':access_token,\n",
    "        'token_type':'bearer',\n",
    "        'user_id': user.id,\n",
    "        'username':user.username\n",
    "    }"
   ]
  },
  {
   "cell_type": "markdown",
   "metadata": {},
   "source": [
    "## Install Deta"
   ]
  },
  {
   "cell_type": "code",
   "execution_count": null,
   "metadata": {},
   "outputs": [],
   "source": [
    "\n"
   ]
  }
 ],
 "metadata": {
  "kernelspec": {
   "display_name": "fastapi_venv",
   "language": "python",
   "name": "python3"
  },
  "language_info": {
   "codemirror_mode": {
    "name": "ipython",
    "version": 3
   },
   "file_extension": ".py",
   "mimetype": "text/x-python",
   "name": "python",
   "nbconvert_exporter": "python",
   "pygments_lexer": "ipython3",
   "version": "3.12.5"
  }
 },
 "nbformat": 4,
 "nbformat_minor": 2
}
